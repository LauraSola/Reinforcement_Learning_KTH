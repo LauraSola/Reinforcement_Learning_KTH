{
 "cells": [
  {
   "cell_type": "code",
   "execution_count": 3,
   "metadata": {},
   "outputs": [
    {
     "data": {
      "text/plain": [
       "32.43653515510713"
      ]
     },
     "execution_count": 3,
     "metadata": {},
     "output_type": "execute_result"
    }
   ],
   "source": [
    "# Define the given values\n",
    "r = 49 / 50\n",
    "\n",
    "# Geometric series function\n",
    "def geometric_sum(a, r, n):\n",
    "    return a * (1 - r**n) / (1 - r)\n",
    "\n",
    "# 1. First series: sum from x=1 to 14\n",
    "S1 = geometric_sum(1, r, 14)\n",
    "\n",
    "# 2. Single term: (49/50)^15\n",
    "S2 = r**15\n",
    "\n",
    "# 3. Second series: sum from x=17 to 29\n",
    "S3 = geometric_sum(r**16, r, 13)\n",
    "\n",
    "# 4. Last terms: sum from x=30 to 31\n",
    "S4 = 10 * r**29 + 10 * r**30\n",
    "\n",
    "# Total sum\n",
    "total_sum = S1 + S2 + S3 + S4\n",
    "total_sum"
   ]
  },
  {
   "cell_type": "code",
   "execution_count": 4,
   "metadata": {},
   "outputs": [
    {
     "data": {
      "text/plain": [
       "6.304735626955985"
      ]
     },
     "execution_count": 4,
     "metadata": {},
     "output_type": "execute_result"
    }
   ],
   "source": [
    "lam = 49/50\n",
    "1*lam**15 + 10*lam**29"
   ]
  },
  {
   "cell_type": "code",
   "execution_count": 2,
   "metadata": {},
   "outputs": [
    {
     "data": {
      "text/plain": [
       "1.2179165886199563"
      ]
     },
     "execution_count": 2,
     "metadata": {},
     "output_type": "execute_result"
    }
   ],
   "source": [
    "reward = 0\n",
    "discount_factor = 49/50\n",
    "lr = 0.019145259641667165\n",
    "Q = 1.2133750960714393\n",
    "max_Q = 1.4801912990863322 \n",
    "Q + lr * (reward + discount_factor * max_Q - Q)"
   ]
  }
 ],
 "metadata": {
  "kernelspec": {
   "display_name": "Python 3",
   "language": "python",
   "name": "python3"
  },
  "language_info": {
   "codemirror_mode": {
    "name": "ipython",
    "version": 3
   },
   "file_extension": ".py",
   "mimetype": "text/x-python",
   "name": "python",
   "nbconvert_exporter": "python",
   "pygments_lexer": "ipython3",
   "version": "3.11.9"
  }
 },
 "nbformat": 4,
 "nbformat_minor": 2
}
