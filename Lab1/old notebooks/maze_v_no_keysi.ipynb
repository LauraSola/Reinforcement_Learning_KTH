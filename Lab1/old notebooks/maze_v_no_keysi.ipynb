{
 "cells": [
  {
   "cell_type": "code",
   "execution_count": null,
   "metadata": {},
   "outputs": [],
   "source": [
    "# Copyright [2024] [KTH Royal Institute of Technology] \n",
    "# Licensed under the Educational Community License, Version 2.0 (ECL-2.0)\n",
    "# This file is part of the Computer Lab 1 for EL2805 - Reinforcement Learning.\n",
    "\n",
    "import numpy as np\n",
    "import matplotlib.pyplot as plt\n",
    "import time\n",
    "from IPython import display\n",
    "import random\n",
    "\n",
    "# Implemented methods\n",
    "methods = ['DynProg', 'ValIter']\n",
    "\n",
    "# Some colours\n",
    "LIGHT_RED    = '#FFC4CC'\n",
    "LIGHT_GREEN  = '#95FD99'\n",
    "BLACK        = '#000000'\n",
    "WHITE        = '#FFFFFF'\n",
    "LIGHT_PURPLE = '#E8D0FF'\n",
    "\n",
    "class Maze:\n",
    "\n",
    "    # Actions\n",
    "    STAY       = 0\n",
    "    MOVE_LEFT  = 1\n",
    "    MOVE_RIGHT = 2\n",
    "    MOVE_UP    = 3\n",
    "    MOVE_DOWN  = 4\n",
    "\n",
    "    # Give names to actions\n",
    "    actions_names = {\n",
    "        STAY: \"stay\",\n",
    "        MOVE_LEFT: \"move left\",\n",
    "        MOVE_RIGHT: \"move right\",\n",
    "        MOVE_UP: \"move up\",\n",
    "        MOVE_DOWN: \"move down\"\n",
    "    }\n",
    "\n",
    "    # Reward values \n",
    "    STEP_REWARD = -100          #TODO\n",
    "    GOAL_REWARD = 100          #TODO\n",
    "    IMPOSSIBLE_REWARD = -100   #TODO\n",
    "    MINOTAUR_REWARD = -100      #TODO\n",
    "\n",
    "    def __init__(self, maze):\n",
    "        \"\"\" Constructor of the environment Maze.\n",
    "        \"\"\"\n",
    "        self.maze                     = maze\n",
    "        self.actions                  = self.__actions()\n",
    "        self.states, self.map         = self.__states()\n",
    "        self.n_actions                = len(self.actions)\n",
    "        self.n_states                 = len(self.states)\n",
    "        self.transition_probabilities = self.__transitions()\n",
    "        self.rewards                  = self.__rewards()\n",
    "\n",
    "    def __actions(self):\n",
    "        actions = dict()\n",
    "        actions[self.STAY]       = (0, 0)\n",
    "        actions[self.MOVE_LEFT]  = (0,-1)\n",
    "        actions[self.MOVE_RIGHT] = (0, 1)\n",
    "        actions[self.MOVE_UP]    = (-1,0)\n",
    "        actions[self.MOVE_DOWN]  = (1,0)\n",
    "        return actions\n",
    "\n",
    "    def __states(self):\n",
    "        \n",
    "        states = dict()\n",
    "        map = dict()\n",
    "        s = 0\n",
    "        for i in range(self.maze.shape[0]):\n",
    "            for j in range(self.maze.shape[1]):\n",
    "                for k in range(self.maze.shape[0]):\n",
    "                    for l in range(self.maze.shape[1]):\n",
    "                        if self.maze[i,j] != 1:\n",
    "                            states[s] = ((i,j), (k,l))\n",
    "                            map[((i,j), (k,l))] = s\n",
    "                            s += 1\n",
    "        \n",
    "        states[s] = 'Eaten'\n",
    "        map['Eaten'] = s\n",
    "        s += 1\n",
    "        \n",
    "        states[s] = 'Win'\n",
    "        map['Win'] = s\n",
    "        \n",
    "        return states, map\n",
    "\n",
    "    def __move(self, state, action):               \n",
    "        \"\"\" Makes a step in the maze, given a current position and an action. \n",
    "            If the action STAY or an inadmissible action is used, the player stays in place.\n",
    "        \n",
    "            :return list of tuples next_state: Possible states ((x,y), (x',y')) on the maze that the system can transition to.\n",
    "        \"\"\"\n",
    "\n",
    "        if self.states[state] == 'Eaten' or self.states[state] == 'Win': # In these states, the game is over\n",
    "            return [self.states[state]]\n",
    "        \n",
    "        else: # Compute the future possible positions given current (state, action)\n",
    "            row_player = self.states[state][0][0] + self.actions[action][0] # Row of the player's next position \n",
    "            col_player = self.states[state][0][1] + self.actions[action][1] # Column of the player's next position \n",
    "            \n",
    "            # Is the player getting out of the limits of the maze or hitting a wall?\n",
    "            impossible_action_player = (row_player == -1 or row_player == self.maze.shape[0] or \\\n",
    "                                         col_player == -1 or col_player == self.maze.shape[1] or \\\n",
    "                                         self.maze[row_player, col_player] == 1 ) #TODO\n",
    "            \n",
    "            actions_minotaur = [[0, -1], [0, 1], [-1, 0], [1, 0]] # Possible moves for the Minotaur\n",
    "            rows_minotaur, cols_minotaur = [], []\n",
    "            for i in range(len(actions_minotaur)):\n",
    "                # Is the minotaur getting out of the limits of the maze?\n",
    "                impossible_action_minotaur = (self.states[state][1][0] + actions_minotaur[i][0] == -1) or \\\n",
    "                                             (self.states[state][1][0] + actions_minotaur[i][0] == self.maze.shape[0]) or \\\n",
    "                                             (self.states[state][1][1] + actions_minotaur[i][1] == -1) or \\\n",
    "                                             (self.states[state][1][1] + actions_minotaur[i][1] == self.maze.shape[1])\n",
    "            \n",
    "                if not impossible_action_minotaur:\n",
    "                    rows_minotaur.append(self.states[state][1][0] + actions_minotaur[i][0])\n",
    "                    cols_minotaur.append(self.states[state][1][1] + actions_minotaur[i][1])  \n",
    "          \n",
    "\n",
    "            # Based on the impossiblity check return the next possible states.\n",
    "            if impossible_action_player: # The action is not possible, so the player remains in place\n",
    "                states = []\n",
    "                for i in range(len(rows_minotaur)):\n",
    "                    \n",
    "                    if (self.states[state][0][0] == rows_minotaur[i] and self.states[state][0][1] == cols_minotaur[i]): # TODO: We met the minotaur\n",
    "                        states.append('Eaten')\n",
    "                    \n",
    "                    elif (self.maze[self.states[state][0][0], self.states[state][0][1]] == 2 ): # TODO: We are at the exit state, without meeting the minotaur\n",
    "                        states.append('Win')\n",
    "                \n",
    "                    else: # The player remains in place, the minotaur moves randomly\n",
    "                        states.append(((self.states[state][0][0], self.states[state][0][1]), (rows_minotaur[i], cols_minotaur[i])))\n",
    "                \n",
    "                return states\n",
    "          \n",
    "            else: # The action is possible, the player and the minotaur both move\n",
    "                states = []\n",
    "                for i in range(len(rows_minotaur)):\n",
    "                \n",
    "                    if (row_player == rows_minotaur[i] and col_player == cols_minotaur[i]): # TODO: We met the minotaur\n",
    "                        states.append('Eaten')\n",
    "                    \n",
    "                    elif self.maze[row_player, col_player] == 2: # TODO:We are at the exit state, without meeting the minotaur\n",
    "                        states.append('Win')\n",
    "                    \n",
    "                    else: # The player moves, the minotaur moves randomly\n",
    "                        states.append(((row_player, col_player), (rows_minotaur[i], cols_minotaur[i])))\n",
    "              \n",
    "                return states\n",
    "        \n",
    "        \n",
    "        \n",
    "\n",
    "    def __transitions(self):\n",
    "        \"\"\" Computes the transition probabilities for every state action pair.\n",
    "            :return numpy.tensor transition probabilities: tensor of transition\n",
    "            probabilities of dimension S*S*A\n",
    "        \"\"\"\n",
    "        # Initialize the transition probailities tensor (S,S,A)\n",
    "        dimensions = (self.n_states,self.n_states,self.n_actions)\n",
    "        transition_probabilities = np.zeros(dimensions)\n",
    "\n",
    "        # TODO: Compute the transition probabilities.\n",
    "  \n",
    "        for s in range(self.n_states):\n",
    "                for a in range(self.n_actions):\n",
    "                    next_possible_states = self.__move(s,a)\n",
    "                    prob_next = 1.0/len(next_possible_states)\n",
    "\n",
    "                    for t in next_possible_states:\n",
    "                        transition_probabilities[self.map[t],s,a] = prob_next\n",
    "    \n",
    "        return transition_probabilities\n",
    "\n",
    "\n",
    "\n",
    "    def __rewards(self):\n",
    "        \n",
    "        \"\"\" Computes the rewards for every state action pair \"\"\"\n",
    "\n",
    "        rewards = np.zeros((self.n_states, self.n_actions))\n",
    "        \n",
    "        for s in range(self.n_states):\n",
    "            for a in range(self.n_actions):\n",
    "                \n",
    "                if self.states[s] == 'Eaten': # The player has been eaten\n",
    "                    rewards[s, a] = self.MINOTAUR_REWARD\n",
    "                \n",
    "                elif self.states[s] == 'Win': # The player has won\n",
    "                    rewards[s, a] = self.GOAL_REWARD\n",
    "                \n",
    "                else:                \n",
    "                    next_states = self.__move(s,a)\n",
    "                    next_s = next_states[0] # The reward does not depend on the next position of the minotaur, we just consider the first one\n",
    "                    \n",
    "                    if self.states[s][0] == next_s[0] and a != self.STAY: # The player hits a wall\n",
    "                        rewards[s, a] = self.IMPOSSIBLE_REWARD\n",
    "                    \n",
    "                    else: # Regular move\n",
    "                        rewards[s, a] = self.STEP_REWARD\n",
    "\n",
    "        return rewards\n",
    "\n",
    "\n",
    "\n",
    "\n",
    "    def simulate(self, start, policy, method):\n",
    "        \n",
    "        if method not in methods:\n",
    "            error = 'ERROR: the argument method must be in {}'.format(methods)\n",
    "            raise NameError(error)\n",
    "\n",
    "        path = list()\n",
    "        \n",
    "        if method == 'DynProg':\n",
    "            horizon = policy.shape[1] # Deduce the horizon from the policy shape\n",
    "            t = 0 # Initialize current time\n",
    "            s = self.map[start] # Initialize current state \n",
    "            path.append(start) # Add the starting position in the maze to the path\n",
    "            \n",
    "            while t < horizon - 1:\n",
    "                a = int(policy[s, t]) # Move to next state given the policy and the current state       \n",
    "                next_states = self.__move(s, a) # Move to next state given the policy and the current state\n",
    "                map_next_states = [self.map[state] for state in next_states] # Map the next states\n",
    "                next_s = np.random.choice(map_next_states, p=self.transition_probabilities[map_next_states, s, a])  # Choose the next state given the transition probabilities\n",
    "                path.append(self.states[next_s]) # Add the next state to the path\n",
    "                t +=1 # Update time and state for next iteration\n",
    "                s = next_s\n",
    "                \n",
    "        if method == 'ValIter': \n",
    "            t = 1 # Initialize current state, next state and time\n",
    "            s = self.map[start]\n",
    "            path.append(start) # Add the starting position in the maze to the path\n",
    "            next_states = self.__move(s, policy[s]) # Move to next state given the policy and the current state\n",
    "            map_next_states = [self.map[state] for state in next_states] # Map the next states\n",
    "            next_s = np.random.choice(map_next_states, p=self.transition_probabilities[map_next_states, s, policy[s]])  # Choose the next state given the transition probabilities\n",
    "            path.append(self.states[next_s]) # Add the next state to the path\n",
    "            \n",
    "            # horizon geometric mean 30\n",
    "            horizon = np.random.geometric(1/30) # Sample the horizon from a geometric distribution with mean 30\n",
    "            \n",
    "            # Loop while state is not the goal state\n",
    "            while s != next_s and t <= horizon:\n",
    "                s = next_s # Update state\n",
    "                next_states = self.__move(s, policy[s]) # Move to next state given the policy and the current state\n",
    "                map_next_states = [self.map[state] for state in next_states] # Map the next states\n",
    "                next_s = np.random.choice(map_next_states, p=self.transition_probabilities[map_next_states, s, policy[s]])  # Choose the next state given the transition probabilities\n",
    "                path.append(self.states[next_s]) # Add the next state to the path\n",
    "                t += 1 # Update time for next iteration\n",
    "        \n",
    "        return [path, horizon] # Return the horizon as well, to plot the histograms for the VI\n",
    "\n",
    "\n",
    "\n",
    "    def show(self):\n",
    "        print('The states are :')\n",
    "        print(self.states)\n",
    "        print('The actions are:')\n",
    "        print(self.actions)\n",
    "        print('The mapping of the states:')\n",
    "        print(self.map)\n",
    "        print('The rewards:')\n",
    "        print(self.rewards)\n",
    "\n",
    "\n",
    "\n",
    "def dynamic_programming(env, horizon):\n",
    "    \"\"\" Solves the shortest path problem using dynamic programming\n",
    "        :input Maze env           : The maze environment in which we seek to\n",
    "                                    find the shortest path.\n",
    "        :input int horizon        : The time T up to which we solve the problem.\n",
    "        :return numpy.array V     : Optimal values for every state at every\n",
    "                                    time, dimension S*T\n",
    "        :return numpy.array policy: Optimal time-varying policy at every state,\n",
    "                                    dimension S*T\n",
    "    \"\"\"\n",
    "    #TODO\n",
    "\n",
    "    ### MDP\n",
    "    P         = env.transition_probabilities\n",
    "    r         = env.rewards\n",
    "    n_states  = env.n_states\n",
    "    n_actions = env.n_actions\n",
    "    T         = horizon\n",
    "\n",
    "    ### objectives to compute\n",
    "    V = np.zeros((env.n_states, horizon+1))\n",
    "    policy = np.zeros((env.n_states, horizon+1))\n",
    "\n",
    "    #initialization\n",
    "    V[env.map['Win'], -1] = 1\n",
    "    V[env.map['Eaten'], -1] = -100\n",
    "\n",
    "    for t in range(T-1, -1, -1):\n",
    "        Q = np.zeros((n_states, n_actions))\n",
    "        for s in range(n_states):\n",
    "            for a in range(n_actions):\n",
    "                Q[s,a] = r[s,a]\n",
    "                for j in range(env.n_states):\n",
    "                    Q[s,a] += P[j,s,a]*V[j,t+1]\n",
    "    \n",
    "            V[s,t] = np.max(Q[s, :])\n",
    "            policy[s,t] = np.argmax(Q[s,:])\n",
    "\n",
    "    return V, policy\n",
    "\n",
    "def value_iteration(env, gamma, epsilon):\n",
    "    \"\"\" Solves the shortest path problem using value iteration\n",
    "        :input Maze env           : The maze environment in which we seek to\n",
    "                                    find the shortest path.\n",
    "        :input float gamma        : The discount factor.\n",
    "        :input float epsilon      : accuracy of the value iteration procedure.\n",
    "        :return numpy.array V     : Optimal values for every state at every\n",
    "                                    time, dimension S*T\n",
    "        :return numpy.array policy: Optimal time-varying policy at every state,\n",
    "                                    dimension S*T\n",
    "    \"\"\"\n",
    "\n",
    "    P = env.transition_probabilities  # Shape: (n_states, n_states, n_actions)\n",
    "    r = env.rewards                   # Shape: (n_states, n_actions)\n",
    "    n_states = env.n_states\n",
    "    n_actions = env.n_actions\n",
    "\n",
    "    V = np.zeros(n_states)  # Initialize value function\n",
    "    policy = np.zeros(n_states, dtype=int)  # Initialize policy\n",
    "\n",
    "    tolerance_thr = epsilon * (1 - gamma) / gamma\n",
    "    delta = tolerance_thr + 1  # Force at least one iteration\n",
    "\n",
    "    while delta > tolerance_thr:\n",
    "        Q = np.zeros((n_states, n_actions))  # Store Q-values for all states and actions\n",
    "\n",
    "        # Compute Q-values for each action in each state\n",
    "        for s in range(n_states):\n",
    "            for a in range(n_actions):\n",
    "                Q[s, a] = r[s, a] + gamma * np.dot(P[:, s, a], V)\n",
    "\n",
    "        # Get the best value and action for each state\n",
    "        V_next = np.max(Q, axis=1)\n",
    "\n",
    "        # Update convergence criterion\n",
    "        delta = np.max(np.abs(V_next - V))\n",
    "        V = V_next\n",
    "    \n",
    "    policy = np.argmax(Q, axis=1)\n",
    "\n",
    "    return V, policy\n"
   ]
  },
  {
   "cell_type": "code",
   "execution_count": 18,
   "metadata": {},
   "outputs": [],
   "source": [
    "def animate_solution(maze, path):\n",
    "\n",
    "    # Map a color to each cell in the maze\n",
    "    col_map = {0: WHITE, 1: BLACK, 2: LIGHT_GREEN, -1: LIGHT_RED, -2: LIGHT_PURPLE}\n",
    "    \n",
    "    rows, cols = maze.shape # Size of the maze\n",
    "    fig = plt.figure(1, figsize=(cols, rows)) # Create figure of the size of the maze\n",
    "\n",
    "    # Remove the axis ticks and add title\n",
    "    ax = plt.gca()\n",
    "    ax.set_title('Policy simulation')\n",
    "    ax.set_xticks([])\n",
    "    ax.set_yticks([])\n",
    "\n",
    "    # Give a color to each cell\n",
    "    colored_maze = [[col_map[maze[j, i]] for i in range(cols)] for j in range(rows)]\n",
    "\n",
    "    # Create a table to color\n",
    "    grid = plt.table(\n",
    "        cellText = None, \n",
    "        cellColours = colored_maze, \n",
    "        cellLoc = 'center', \n",
    "        loc = (0,0), \n",
    "        edges = 'closed'\n",
    "    )\n",
    "    \n",
    "    # Modify the height and width of the cells in the table\n",
    "    tc = grid.properties()['children']\n",
    "    for cell in tc:\n",
    "        cell.set_height(1.0/rows)\n",
    "        cell.set_width(1.0/cols)\n",
    "\n",
    "    for i in range(0, len(path)):\n",
    "        if path[i-1] != 'Eaten' and path[i-1] != 'Win':\n",
    "            grid.get_celld()[(path[i-1][0])].set_facecolor(col_map[maze[path[i-1][0]]])\n",
    "            grid.get_celld()[(path[i-1][1])].set_facecolor(col_map[maze[path[i-1][1]]])\n",
    "        if path[i] != 'Eaten' and path[i] != 'Win':\n",
    "            grid.get_celld()[(path[i][0])].set_facecolor(col_map[-2]) # Position of the player\n",
    "            grid.get_celld()[(path[i][1])].set_facecolor(col_map[-1]) # Position of the minotaur\n",
    "        display.display(fig)\n",
    "        time.sleep(1)\n",
    "        display.clear_output(wait = True)"
   ]
  },
  {
   "cell_type": "code",
   "execution_count": 19,
   "metadata": {},
   "outputs": [
    {
     "data": {
      "image/png": "[encoded data removed]",
      "text/plain": [
       "<Figure size 576x504 with 1 Axes>"
      ]
     },
     "metadata": {},
     "output_type": "display_data"
    }
   ],
   "source": [
    "if __name__ == \"__main__\":\n",
    "    # Description of the maze as a numpy array\n",
    "    maze = np.array([\n",
    "        [0, 0, 1, 0, 0, 0, 0, 0],\n",
    "        [0, 0, 1, 0, 0, 1, 0, 0],\n",
    "        [0, 0, 1, 0, 0, 1, 1, 1],\n",
    "        [0, 0, 1, 0, 0, 1, 0, 0],\n",
    "        [0, 0, 0, 0, 0, 0, 0, 0],\n",
    "        [0, 1, 1, 1, 1, 1, 1, 0],\n",
    "        [0, 0, 0, 0, 1, 2, 0, 0]])\n",
    "    # With the convention 0 = empty cell, 1 = obstacle, 2 = exit of the Maze\n",
    "    \n",
    "    env = Maze(maze) # Create an environment maze\n",
    "    horizon = 20       # TODO: Finite horizon\n",
    "    gamma = 29/30\n",
    "    epsilon = 0.0000001 #10^-4\n",
    "\n",
    "    # Solve the MDP problem with dynamic programming\n",
    "    V, policy = value_iteration(env, gamma, epsilon)\n",
    "\n",
    "    # Simulate the shortest path starting from position A\n",
    "    method = 'ValIter'\n",
    "    start  = ((0,0), (6,5)) # Initial state\n",
    "    path = env.simulate(start, policy, method)[0]\n",
    "\n",
    "    animate_solution(maze, path)"
   ]
  },
  {
   "cell_type": "code",
   "execution_count": 21,
   "metadata": {},
   "outputs": [
    {
     "data": {
      "text/plain": [
       "[((0, 0), (6, 5)),\n",
       " ((0, 1), (6, 4)),\n",
       " ((1, 1), (5, 4)),\n",
       " ((2, 1), (4, 4)),\n",
       " ((3, 1), (4, 5)),\n",
       " ((4, 1), (3, 5)),\n",
       " ((4, 2), (2, 5)),\n",
       " ((4, 3), (1, 5)),\n",
       " ((4, 4), (0, 5)),\n",
       " ((4, 5), (0, 4)),\n",
       " ((4, 6), (0, 3)),\n",
       " ((4, 7), (1, 3)),\n",
       " ((5, 7), (1, 4)),\n",
       " ((6, 7), (0, 4)),\n",
       " ((6, 6), (0, 3)),\n",
       " 'Win',\n",
       " 'Win']"
      ]
     },
     "execution_count": 21,
     "metadata": {},
     "output_type": "execute_result"
    }
   ],
   "source": [
    "path = env.simulate(start, policy, method)[0]\n",
    "\n",
    "path"
   ]
  },
  {
   "cell_type": "code",
   "execution_count": 23,
   "metadata": {},
   "outputs": [
    {
     "name": "stdout",
     "output_type": "stream",
     "text": [
      "6248\n",
      "6248\n"
     ]
    }
   ],
   "source": [
    "n_alive = 0\n",
    "n_horizon_more_15 = 0\n",
    "for sim in range(10000):\n",
    "    # Simulate the shortest path starting from position A\n",
    "    method = 'ValIter'\n",
    "    start  = ((0,0), (6,5)) # Initial state\n",
    "    sim = env.simulate(start, policy, method)\n",
    "    if sim[1]>=15:\n",
    "        n_horizon_more_15+=1\n",
    "    else:\n",
    "        #animate_solution(maze, path)\n",
    "        continue\n",
    "\n",
    "    if sim[0][-1] == 'Win':\n",
    "        n_alive+=1\n",
    "\n",
    "print(n_alive)\n",
    "print(n_horizon_more_15)"
   ]
  },
  {
   "cell_type": "code",
   "execution_count": 7,
   "metadata": {},
   "outputs": [
    {
     "name": "stdout",
     "output_type": "stream",
     "text": [
      "{0, 2, 4}\n"
     ]
    }
   ],
   "source": [
    "unique_actions = set()  # Use this instead of naming it 'set'\n",
    "\n",
    "# Iterate over each state in the environment\n",
    "for state in range(env.n_states):\n",
    "    # Check if the condition on env.states is satisfied\n",
    "    if env.states[state][0][0] == 0 and env.states[state][0][1] == 0:\n",
    "        # Add the corresponding policy action to the set\n",
    "        unique_actions.add(policy[state])\n",
    "\n",
    "print(unique_actions)"
   ]
  },
  {
   "cell_type": "code",
   "execution_count": 31,
   "metadata": {},
   "outputs": [
    {
     "data": {
      "image/png": "[encoded data removed]",
      "text/plain": [
       "<Figure size 576x504 with 1 Axes>"
      ]
     },
     "metadata": {},
     "output_type": "display_data"
    }
   ],
   "source": [
    "animate_solution(maze, path)"
   ]
  },
  {
   "cell_type": "code",
   "execution_count": 32,
   "metadata": {},
   "outputs": [
    {
     "data": {
      "text/plain": [
       "[((0, 0), (6, 5)),\n",
       " ((0, 1), (5, 5)),\n",
       " ((1, 1), (6, 5)),\n",
       " ((2, 1), (5, 5)),\n",
       " ((3, 1), (5, 6)),\n",
       " ((4, 1), (5, 5)),\n",
       " ((4, 2), (6, 5)),\n",
       " ((4, 3), (5, 5)),\n",
       " ((4, 4), (4, 5)),\n",
       " ((4, 5), (4, 4)),\n",
       " ((4, 6), (4, 3)),\n",
       " ((4, 7), (3, 3)),\n",
       " ((5, 7), (4, 3)),\n",
       " ((6, 7), (3, 3)),\n",
       " ((6, 6), (4, 3)),\n",
       " 'Win',\n",
       " 'Win']"
      ]
     },
     "execution_count": 32,
     "metadata": {},
     "output_type": "execute_result"
    }
   ],
   "source": [
    "path"
   ]
  },
  {
   "cell_type": "code",
   "execution_count": 82,
   "metadata": {},
   "outputs": [
    {
     "data": {
      "text/plain": [
       "1"
      ]
     },
     "execution_count": 82,
     "metadata": {},
     "output_type": "execute_result"
    }
   ],
   "source": [
    "policy[2158]"
   ]
  },
  {
   "cell_type": "code",
   "execution_count": 50,
   "metadata": {},
   "outputs": [
    {
     "data": {
      "text/plain": [
       "[((0, 0), (6, 5)),\n",
       " ((0, 1), (6, 4)),\n",
       " ((1, 1), (6, 3)),\n",
       " ((2, 1), (6, 4)),\n",
       " ((3, 1), (6, 3)),\n",
       " ((4, 1), (6, 4)),\n",
       " ((4, 2), (6, 3)),\n",
       " ((4, 3), (6, 2)),\n",
       " ((4, 4), (6, 3)),\n",
       " ((4, 5), (6, 4)),\n",
       " ((4, 6), (6, 5)),\n",
       " ((4, 7), (5, 5)),\n",
       " ((5, 7), (4, 5)),\n",
       " ((6, 7), (3, 5)),\n",
       " ((6, 6), (3, 6)),\n",
       " ((6, 6), (3, 7)),\n",
       " 'Win',\n",
       " 'Win']"
      ]
     },
     "execution_count": 50,
     "metadata": {},
     "output_type": "execute_result"
    }
   ],
   "source": [
    "path = env.simulate(start, policy, method)[0]\n",
    "\n",
    "path"
   ]
  },
  {
   "cell_type": "code",
   "execution_count": 51,
   "metadata": {},
   "outputs": [
    {
     "data": {
      "text/plain": [
       "2158"
      ]
     },
     "execution_count": 51,
     "metadata": {},
     "output_type": "execute_result"
    }
   ],
   "source": [
    "env.map[(6, 6), (3, 6)]"
   ]
  },
  {
   "cell_type": "code",
   "execution_count": 81,
   "metadata": {},
   "outputs": [
    {
     "data": {
      "text/plain": [
       "1"
      ]
     },
     "execution_count": 81,
     "metadata": {},
     "output_type": "execute_result"
    }
   ],
   "source": [
    "policy[2158]"
   ]
  },
  {
   "cell_type": "code",
   "execution_count": 53,
   "metadata": {},
   "outputs": [
    {
     "data": {
      "image/png": "[encoded data removed]",
      "text/plain": [
       "<Figure size 576x504 with 1 Axes>"
      ]
     },
     "metadata": {},
     "output_type": "display_data"
    }
   ],
   "source": [
    "animate_solution(maze, path)"
   ]
  },
  {
   "cell_type": "code",
   "execution_count": 19,
   "metadata": {},
   "outputs": [
    {
     "data": {
      "text/plain": [
       "[((0, 0), (6, 5)),\n",
       " ((0, 1), (5, 5)),\n",
       " ((1, 1), (4, 5)),\n",
       " ((2, 1), (5, 5)),\n",
       " ((3, 1), (5, 6)),\n",
       " ((4, 1), (4, 6)),\n",
       " ((4, 2), (3, 6)),\n",
       " ((4, 3), (3, 7)),\n",
       " ((4, 4), (3, 6)),\n",
       " ((4, 5), (3, 7)),\n",
       " ((4, 6), (3, 6)),\n",
       " ((4, 7), (2, 6)),\n",
       " ((5, 7), (2, 5)),\n",
       " ((6, 7), (2, 6)),\n",
       " ((6, 6), (1, 6)),\n",
       " ((6, 6), (1, 7)),\n",
       " ((6, 6), (0, 7)),\n",
       " 'Win',\n",
       " 'Win']"
      ]
     },
     "execution_count": 19,
     "metadata": {},
     "output_type": "execute_result"
    }
   ],
   "source": []
  },
  {
   "cell_type": "code",
   "execution_count": 11,
   "metadata": {},
   "outputs": [],
   "source": [
    "path = env.simulate(start, policy, method)"
   ]
  },
  {
   "cell_type": "code",
   "execution_count": 15,
   "metadata": {},
   "outputs": [
    {
     "data": {
      "image/png": "[encoded data removed]",
      "text/plain": [
       "<Figure size 576x504 with 1 Axes>"
      ]
     },
     "metadata": {},
     "output_type": "display_data"
    }
   ],
   "source": [
    "animate_solution(maze, path[0])"
   ]
  },
  {
   "cell_type": "code",
   "execution_count": 21,
   "metadata": {},
   "outputs": [
    {
     "data": {
      "image/png": "[encoded data removed]",
      "text/plain": [
       "<Figure size 800x700 with 1 Axes>"
      ]
     },
     "metadata": {},
     "output_type": "display_data"
    }
   ],
   "source": [
    "env = Maze(maze) # Create an environment maze\n",
    "\n",
    "# Simulate the shortest path starting from position A\n",
    "method = 'ValIter'\n",
    "start  = ((0,0), (6,5)) # Initial state\n",
    "path = env.simulate(start, policy, method)[0]\n",
    "\n",
    "animate_solution(maze, path)"
   ]
  },
  {
   "cell_type": "code",
   "execution_count": 22,
   "metadata": {},
   "outputs": [
    {
     "data": {
      "text/plain": [
       "[((0, 0), (6, 5)),\n",
       " ((0, 1), (6, 4)),\n",
       " ((1, 1), (5, 4)),\n",
       " ((2, 1), (4, 4)),\n",
       " ((3, 1), (3, 4)),\n",
       " ((4, 1), (2, 4)),\n",
       " ((4, 2), (2, 5)),\n",
       " ((4, 3), (3, 5)),\n",
       " ((4, 4), (4, 5)),\n",
       " ((4, 5), (4, 4)),\n",
       " ((4, 6), (4, 3)),\n",
       " ((4, 7), (4, 4)),\n",
       " ((5, 7), (4, 3)),\n",
       " ((6, 7), (4, 4)),\n",
       " ((6, 6), (5, 4)),\n",
       " ((6, 6), (5, 5)),\n",
       " ((6, 6), (6, 5)),\n",
       " 'Win',\n",
       " 'Win']"
      ]
     },
     "execution_count": 22,
     "metadata": {},
     "output_type": "execute_result"
    }
   ],
   "source": [
    "path"
   ]
  }
 ],
 "metadata": {
  "kernelspec": {
   "display_name": "CV",
   "language": "python",
   "name": "python3"
  },
  "language_info": {
   "codemirror_mode": {
    "name": "ipython",
    "version": 3
   },
   "file_extension": ".py",
   "mimetype": "text/x-python",
   "name": "python",
   "nbconvert_exporter": "python",
   "pygments_lexer": "ipython3",
   "version": "3.8.8"
  }
 },
 "nbformat": 4,
 "nbformat_minor": 2
}
